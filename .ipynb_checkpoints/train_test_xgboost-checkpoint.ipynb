{
 "cells": [
  {
   "cell_type": "code",
   "execution_count": 12,
   "id": "fc205e3b",
   "metadata": {},
   "outputs": [],
   "source": [
    "import pandas as pd\n",
    "import numpy as np\n",
    "import utils\n",
    "from sklearn.model_selection import train_test_split\n",
    "import xgboost as xgb\n",
    "from sklearn.multioutput import MultiOutputRegressor\n",
    "from sklearn.metrics import mean_absolute_percentage_error"
   ]
  },
  {
   "cell_type": "markdown",
   "id": "3556768e",
   "metadata": {},
   "source": [
    "# Define hyperparameters and other important variables"
   ]
  },
  {
   "cell_type": "code",
   "execution_count": 70,
   "id": "05347da2",
   "metadata": {},
   "outputs": [],
   "source": [
    "target_variable = \"SpotPriceEUR\"\n",
    "\n",
    "timestamp_col = \"HourDK\"\n",
    "\n",
    "target_sequence_length = 7*24\n",
    "\n",
    "test_size = 0.20\n",
    "\n",
    "#first_day_train = \"2020-01-01\"\n",
    "\n",
    "first_day_test = \"2021-01-01\"\n",
    "\n",
    "last_day_test = \"2021-12-31\"\n",
    "\n",
    "hyperparameters = {\n",
    "    \"in_length\" : 14*24,\n",
    "    \"step_size\" : 12,\n",
    "    \"n_estimators\" : 20,\n",
    "    \"max_depth\" : 6,\n",
    "    \"subsample\" : 0.5,\n",
    "    \"min_child_weight\" : 1,\n",
    "    \"selected_features\" : [target_variable]\n",
    "    }"
   ]
  },
  {
   "cell_type": "markdown",
   "id": "4188f2ea",
   "metadata": {},
   "source": [
    "# Prepare data"
   ]
  },
  {
   "cell_type": "markdown",
   "id": "cc815422",
   "metadata": {},
   "source": [
    "First, we load the data and split it into train and test. It is important that the shuffle argument is False, because we need to maintain the original order of the data points in the data. "
   ]
  },
  {
   "cell_type": "code",
   "execution_count": 71,
   "id": "e673d2db",
   "metadata": {},
   "outputs": [],
   "source": [
    "spotprices = utils.load_data()"
   ]
  },
  {
   "cell_type": "code",
   "execution_count": 72,
   "id": "a5eee694",
   "metadata": {},
   "outputs": [
    {
     "data": {
      "text/html": [
       "<div>\n",
       "<style scoped>\n",
       "    .dataframe tbody tr th:only-of-type {\n",
       "        vertical-align: middle;\n",
       "    }\n",
       "\n",
       "    .dataframe tbody tr th {\n",
       "        vertical-align: top;\n",
       "    }\n",
       "\n",
       "    .dataframe thead th {\n",
       "        text-align: right;\n",
       "    }\n",
       "</style>\n",
       "<table border=\"1\" class=\"dataframe\">\n",
       "  <thead>\n",
       "    <tr style=\"text-align: right;\">\n",
       "      <th></th>\n",
       "      <th>SpotPriceEUR</th>\n",
       "    </tr>\n",
       "    <tr>\n",
       "      <th>HourDK</th>\n",
       "      <th></th>\n",
       "    </tr>\n",
       "  </thead>\n",
       "  <tbody>\n",
       "    <tr>\n",
       "      <th>2017-01-01 00:00:00</th>\n",
       "      <td>20.959999</td>\n",
       "    </tr>\n",
       "    <tr>\n",
       "      <th>2017-01-01 01:00:00</th>\n",
       "      <td>20.900000</td>\n",
       "    </tr>\n",
       "    <tr>\n",
       "      <th>2017-01-01 02:00:00</th>\n",
       "      <td>18.129999</td>\n",
       "    </tr>\n",
       "    <tr>\n",
       "      <th>2017-01-01 03:00:00</th>\n",
       "      <td>16.030001</td>\n",
       "    </tr>\n",
       "    <tr>\n",
       "      <th>2017-01-01 04:00:00</th>\n",
       "      <td>16.430000</td>\n",
       "    </tr>\n",
       "    <tr>\n",
       "      <th>...</th>\n",
       "      <td>...</td>\n",
       "    </tr>\n",
       "    <tr>\n",
       "      <th>2020-12-31 19:00:00</th>\n",
       "      <td>59.470001</td>\n",
       "    </tr>\n",
       "    <tr>\n",
       "      <th>2020-12-31 20:00:00</th>\n",
       "      <td>56.700001</td>\n",
       "    </tr>\n",
       "    <tr>\n",
       "      <th>2020-12-31 21:00:00</th>\n",
       "      <td>52.439999</td>\n",
       "    </tr>\n",
       "    <tr>\n",
       "      <th>2020-12-31 22:00:00</th>\n",
       "      <td>51.860001</td>\n",
       "    </tr>\n",
       "    <tr>\n",
       "      <th>2020-12-31 23:00:00</th>\n",
       "      <td>52.259998</td>\n",
       "    </tr>\n",
       "  </tbody>\n",
       "</table>\n",
       "<p>35064 rows × 1 columns</p>\n",
       "</div>"
      ],
      "text/plain": [
       "                     SpotPriceEUR\n",
       "HourDK                           \n",
       "2017-01-01 00:00:00     20.959999\n",
       "2017-01-01 01:00:00     20.900000\n",
       "2017-01-01 02:00:00     18.129999\n",
       "2017-01-01 03:00:00     16.030001\n",
       "2017-01-01 04:00:00     16.430000\n",
       "...                           ...\n",
       "2020-12-31 19:00:00     59.470001\n",
       "2020-12-31 20:00:00     56.700001\n",
       "2020-12-31 21:00:00     52.439999\n",
       "2020-12-31 22:00:00     51.860001\n",
       "2020-12-31 23:00:00     52.259998\n",
       "\n",
       "[35064 rows x 1 columns]"
      ]
     },
     "execution_count": 72,
     "metadata": {},
     "output_type": "execute_result"
    }
   ],
   "source": [
    "training_data = spotprices[spotprices.index < first_day_test]\n",
    "#training_data = training_data[training_data.index < first_day]\n",
    "training_data"
   ]
  },
  {
   "cell_type": "code",
   "execution_count": 73,
   "id": "616d213f",
   "metadata": {},
   "outputs": [
    {
     "data": {
      "text/html": [
       "<div>\n",
       "<style scoped>\n",
       "    .dataframe tbody tr th:only-of-type {\n",
       "        vertical-align: middle;\n",
       "    }\n",
       "\n",
       "    .dataframe tbody tr th {\n",
       "        vertical-align: top;\n",
       "    }\n",
       "\n",
       "    .dataframe thead th {\n",
       "        text-align: right;\n",
       "    }\n",
       "</style>\n",
       "<table border=\"1\" class=\"dataframe\">\n",
       "  <thead>\n",
       "    <tr style=\"text-align: right;\">\n",
       "      <th></th>\n",
       "      <th>SpotPriceEUR</th>\n",
       "    </tr>\n",
       "    <tr>\n",
       "      <th>HourDK</th>\n",
       "      <th></th>\n",
       "    </tr>\n",
       "  </thead>\n",
       "  <tbody>\n",
       "    <tr>\n",
       "      <th>2021-01-01 00:00:00</th>\n",
       "      <td>50.869999</td>\n",
       "    </tr>\n",
       "    <tr>\n",
       "      <th>2021-01-01 01:00:00</th>\n",
       "      <td>48.189999</td>\n",
       "    </tr>\n",
       "    <tr>\n",
       "      <th>2021-01-01 02:00:00</th>\n",
       "      <td>44.680000</td>\n",
       "    </tr>\n",
       "    <tr>\n",
       "      <th>2021-01-01 03:00:00</th>\n",
       "      <td>42.919998</td>\n",
       "    </tr>\n",
       "    <tr>\n",
       "      <th>2021-01-01 04:00:00</th>\n",
       "      <td>40.389999</td>\n",
       "    </tr>\n",
       "    <tr>\n",
       "      <th>...</th>\n",
       "      <td>...</td>\n",
       "    </tr>\n",
       "    <tr>\n",
       "      <th>2021-12-30 20:00:00</th>\n",
       "      <td>54.590000</td>\n",
       "    </tr>\n",
       "    <tr>\n",
       "      <th>2021-12-30 21:00:00</th>\n",
       "      <td>55.000000</td>\n",
       "    </tr>\n",
       "    <tr>\n",
       "      <th>2021-12-30 22:00:00</th>\n",
       "      <td>53.500000</td>\n",
       "    </tr>\n",
       "    <tr>\n",
       "      <th>2021-12-30 23:00:00</th>\n",
       "      <td>50.130001</td>\n",
       "    </tr>\n",
       "    <tr>\n",
       "      <th>2021-12-31 00:00:00</th>\n",
       "      <td>30.040001</td>\n",
       "    </tr>\n",
       "  </tbody>\n",
       "</table>\n",
       "<p>8737 rows × 1 columns</p>\n",
       "</div>"
      ],
      "text/plain": [
       "                     SpotPriceEUR\n",
       "HourDK                           \n",
       "2021-01-01 00:00:00     50.869999\n",
       "2021-01-01 01:00:00     48.189999\n",
       "2021-01-01 02:00:00     44.680000\n",
       "2021-01-01 03:00:00     42.919998\n",
       "2021-01-01 04:00:00     40.389999\n",
       "...                           ...\n",
       "2021-12-30 20:00:00     54.590000\n",
       "2021-12-30 21:00:00     55.000000\n",
       "2021-12-30 22:00:00     53.500000\n",
       "2021-12-30 23:00:00     50.130001\n",
       "2021-12-31 00:00:00     30.040001\n",
       "\n",
       "[8737 rows x 1 columns]"
      ]
     },
     "execution_count": 73,
     "metadata": {},
     "output_type": "execute_result"
    }
   ],
   "source": [
    "test_data = spotprices[spotprices.index >= first_day_test]\n",
    "test_data = test_data[test_data.index <= last_day_test]\n",
    "test_data"
   ]
  },
  {
   "cell_type": "code",
   "execution_count": 74,
   "id": "83f7cdfd",
   "metadata": {},
   "outputs": [
    {
     "name": "stdout",
     "output_type": "stream",
     "text": [
      "Preparing data..\n",
      "Finished preparing data!\n",
      "Preparing data..\n",
      "Finished preparing data!\n"
     ]
    }
   ],
   "source": [
    "# Create indices. Must be passed to function that creates (X,Y) pairs so that\n",
    "# it knows where to slice the data\n",
    "training_indices = utils.get_indices_entire_sequence(\n",
    "    data=training_data, \n",
    "    window_size=hyperparameters[\"in_length\"]+target_sequence_length, \n",
    "    step_size=hyperparameters[\"step_size\"]\n",
    "    )\n",
    "\n",
    "# Obtain (X,Y) pairs of training data\n",
    "x_train, y_train = utils.get_xgboost_x_y(\n",
    "    indices=training_indices, \n",
    "    data=training_data[hyperparameters[\"selected_features\"]].to_numpy(),\n",
    "    univariate=True,\n",
    "    target_sequence_length=target_sequence_length,\n",
    "    input_seq_len=hyperparameters[\"in_length\"],\n",
    "    exo_feature_steps=0\n",
    "    )\n",
    "\n",
    "\n",
    "test_indices = utils.get_indices_entire_sequence(\n",
    "    data=test_data, \n",
    "    window_size=hyperparameters[\"in_length\"]+target_sequence_length, \n",
    "    step_size=24\n",
    "    )\n",
    "\n",
    "# Obtain (X,Y) pairs of test data\n",
    "x_test, y_test = utils.get_xgboost_x_y(\n",
    "    indices=test_indices, \n",
    "    data=test_data[hyperparameters[\"selected_features\"]].to_numpy(),\n",
    "    univariate=True,\n",
    "    target_sequence_length=target_sequence_length,\n",
    "    input_seq_len=hyperparameters[\"in_length\"],\n",
    "    exo_feature_steps=0\n",
    "    )"
   ]
  },
  {
   "cell_type": "code",
   "execution_count": 75,
   "id": "8a619e98",
   "metadata": {},
   "outputs": [
    {
     "name": "stderr",
     "output_type": "stream",
     "text": [
      "C:\\Users\\groes\\anaconda3\\lib\\site-packages\\xgboost\\data.py:119: UserWarning: Use subset (sliced data) of np.ndarray is not recommended because it will generate extra copies and increase memory consumption\n",
      "  warnings.warn(\n"
     ]
    }
   ],
   "source": [
    "# Initialize model\n",
    "model = xgb.XGBRegressor(\n",
    "    n_estimators=hyperparameters[\"n_estimators\"],\n",
    "    max_depth=hyperparameters[\"max_depth\"],\n",
    "    subsample=hyperparameters[\"subsample\"],\n",
    "    min_child_weight=hyperparameters[\"min_child_weight\"],\n",
    "    objective=\"reg:squarederror\",\n",
    "    tree_method=\"hist\"\n",
    "    )\n",
    "\n",
    "trained_model = MultiOutputRegressor(model).fit(x_train, y_train)\n",
    "\n",
    "train_forecasts = trained_model.predict(x_train)\n",
    "\n",
    "#train_mape = mean_absolute_percentage_error(y_train, train_forecasts)\n",
    "#print(\"Overall training MAPE: {}\".format(train_mape))"
   ]
  },
  {
   "cell_type": "code",
   "execution_count": 76,
   "id": "ba3237f4",
   "metadata": {},
   "outputs": [
    {
     "data": {
      "text/plain": [
       "array([[29.02    , 28.540001, 27.33    , ..., 28.969999, 28.540001,\n",
       "        28.129999],\n",
       "       [31.950001, 31.700001, 31.5     , ..., 29.290001, 29.6     ,\n",
       "        29.59    ],\n",
       "       [31.01    , 30.93    , 30.9     , ..., 29.530001, 29.040001,\n",
       "        28.42    ],\n",
       "       ...,\n",
       "       [56.      , 54.509998, 49.970001, ..., 52.700001, 52.169998,\n",
       "        50.700001],\n",
       "       [13.13    , 12.53    , 10.87    , ..., 45.759998, 23.129999,\n",
       "        20.940001],\n",
       "       [21.469999, 19.700001, 19.120001, ..., 47.5     , 43.23    ,\n",
       "        43.57    ]])"
      ]
     },
     "execution_count": 76,
     "metadata": {},
     "output_type": "execute_result"
    }
   ],
   "source": [
    "y_train"
   ]
  },
  {
   "cell_type": "code",
   "execution_count": 77,
   "id": "2ccee0fa",
   "metadata": {},
   "outputs": [
    {
     "data": {
      "text/plain": [
       "array([[27.96498 , 27.565006, 26.00282 , ..., 27.339048, 31.014221,\n",
       "        29.710768],\n",
       "       [31.397942, 30.369198, 32.53094 , ..., 33.148544, 32.745968,\n",
       "        36.782005],\n",
       "       [30.000326, 29.948568, 28.50131 , ..., 31.4451  , 30.059782,\n",
       "        26.93521 ],\n",
       "       ...,\n",
       "       [54.327297, 53.326283, 51.761158, ..., 46.73434 , 50.904613,\n",
       "        50.121037],\n",
       "       [16.70731 , 11.648505, 11.531536, ..., 42.951977, 26.6587  ,\n",
       "        22.669006],\n",
       "       [19.554478, 18.126287, 20.470968, ..., 52.333134, 48.172523,\n",
       "        46.666718]], dtype=float32)"
      ]
     },
     "execution_count": 77,
     "metadata": {},
     "output_type": "execute_result"
    }
   ],
   "source": [
    "train_forecasts"
   ]
  },
  {
   "cell_type": "code",
   "execution_count": 78,
   "id": "b00736bc",
   "metadata": {},
   "outputs": [
    {
     "name": "stdout",
     "output_type": "stream",
     "text": [
      "5.274390050061007\n",
      "Mean train value: 36.63538420075645\n"
     ]
    }
   ],
   "source": [
    "from sklearn.metrics import mean_absolute_error\n",
    "train_mae = mean_absolute_error(y_train, train_forecasts)\n",
    "print(train_mae)\n",
    "print(\"Mean train value: {}\".format(np.mean(y_train)))"
   ]
  },
  {
   "cell_type": "code",
   "execution_count": 79,
   "id": "b7c807a8",
   "metadata": {},
   "outputs": [
    {
     "name": "stdout",
     "output_type": "stream",
     "text": [
      "51.70997033130468\n",
      "Mean train value: 89.48914604419295\n"
     ]
    }
   ],
   "source": [
    "test_forecasts = trained_model.predict(x_test)\n",
    "test_mae = mean_absolute_error(y_test, test_forecasts)\n",
    "print(test_mae)\n",
    "print(\"Mean train value: {}\".format(np.mean(y_test)))"
   ]
  },
  {
   "cell_type": "code",
   "execution_count": null,
   "id": "abe6287a",
   "metadata": {},
   "outputs": [],
   "source": []
  }
 ],
 "metadata": {
  "kernelspec": {
   "display_name": "Python 3 (ipykernel)",
   "language": "python",
   "name": "python3"
  },
  "language_info": {
   "codemirror_mode": {
    "name": "ipython",
    "version": 3
   },
   "file_extension": ".py",
   "mimetype": "text/x-python",
   "name": "python",
   "nbconvert_exporter": "python",
   "pygments_lexer": "ipython3",
   "version": "3.8.3"
  }
 },
 "nbformat": 4,
 "nbformat_minor": 5
}
